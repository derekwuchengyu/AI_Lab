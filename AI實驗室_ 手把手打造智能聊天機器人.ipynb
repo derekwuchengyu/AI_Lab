{
 "cells": [
  {
   "cell_type": "markdown",
   "metadata": {},
   "source": [
    "# Step1 載入相關套件,定義相關模組"
   ]
  },
  {
   "cell_type": "code",
   "execution_count": 8,
   "metadata": {},
   "outputs": [],
   "source": [
    "# Imports\n",
    "from sklearn.feature_extraction.text import CountVectorizer\n",
    "from sklearn.naive_bayes import MultinomialNB\n",
    "from sklearn.model_selection import train_test_split\n",
    "import pandas as pd\n",
    "import os,sys\n",
    "\n",
    "pd.set_option('max_colwidth', 1000)"
   ]
  },
  {
   "cell_type": "markdown",
   "metadata": {},
   "source": [
    "# Step2 資料預處理"
   ]
  },
  {
   "cell_type": "code",
   "execution_count": 23,
   "metadata": {},
   "outputs": [],
   "source": [
    "#載入資料\n",
    "data = {'你好，請問有問題能在這裡詢問嗎':'迎賓|引導',\n",
    "        '請問我想購買加值方案一直無法付費':'企業問題',\n",
    "        '好像是認證的事情':'企業問題',\n",
    "        '是你們昨天打給我的喔公司統編 85044021':'聯繫客服',\n",
    "        '昨天你們有打給我':'聯繫客服',\n",
    "        '我想在台中市東山路附近找工作':'求職問題',\n",
    "        '你好~':'迎賓|引導',\n",
    "        '可以麻煩客服打給我嗎':'聯繫客服',\n",
    "        '嗨':'迎賓|引導',\n",
    "        '請問刊登職缺是要用電腦才可以嗎':'企業問題',\n",
    "         '您好':'迎賓|引導',\n",
    "        '無法看到求職者的聯絡資訊':'企業問題',\n",
    "        '要求職':'求職問題',\n",
    "        '請暫停徵才刊登.謝謝':'企業問題',\n",
    "        '我要開啟徵才職缺':'企業問題',\n",
    "        '您好 請教一個問題':'迎賓|引導',\n",
    "        '你好想詢問有貨運司機的工作嗎？ 桃園區 無職業駕照':'求職問題',\n",
    "        '你好想詢問有貨運司機的工作嗎？':'求職問題',\n",
    "        '我想找工作':'求職問題',\n",
    "        '您好我要更改公司資料':'企業問題',\n",
    "        '我剛已經電話進去詢問了 感謝 用好了':'聯繫客服',\n",
    "        '您好現在有什麼徵才優惠嗎?':'付款費用|活動方案',\n",
    "        '蘿亞精品有限公司請更改公司地址為新北市汐止區福德一路392巷22弄26號更改電話為（02）26931800':'企業問題',\n",
    "        '你好':'迎賓|引導',\n",
    "        '客服':'聯繫客服',\n",
    "        '您好  我發票要開統編':'付款費用|活動方案',\n",
    "        '我要先關閉暫停徵才職缺':'企業問題',\n",
    "        '你好~我們公司的518合約已到期 不再續約應如何處理':'企業問題',\n",
    "        '您好':'迎賓|引導',\n",
    "        '已經線上刷卡繳費了 但還不能開通':'付款費用|活動方案',\n",
    "        '公司已搬遷 要如何更改公司資料':'企業問題',\n",
    "        '你好我想要詢問刊登價格':'付款費用|活動方案',\n",
    "        '妳好，我們人找到了，可以暫停徵人嗎？':'企業問題',\n",
    "        '嗨':'迎賓|引導',\n",
    "        '我要使用徵才系統':'企業問題',\n",
    "        '您好，請問企業登入的相關文件是否可以從這邊傳送資料可貴公司，還是必須透過mail呢?':'企業問題',\n",
    "        '儲值後要怎麼開通':'付款費用|活動方案',\n",
    "        '可以透過你們幫我開通嗎':'付款費用|活動方案',\n",
    "        '你好，我剛剛有儲值':'付款費用|活動方案',\n",
    "        '請問如何關閉職缺':'企業問題'}\n",
    "df = pd.DataFrame(list(data.items()),columns=['quote','category'])"
   ]
  },
  {
   "cell_type": "code",
   "execution_count": 24,
   "metadata": {},
   "outputs": [
    {
     "data": {
      "text/html": [
       "<div>\n",
       "<style scoped>\n",
       "    .dataframe tbody tr th:only-of-type {\n",
       "        vertical-align: middle;\n",
       "    }\n",
       "\n",
       "    .dataframe tbody tr th {\n",
       "        vertical-align: top;\n",
       "    }\n",
       "\n",
       "    .dataframe thead th {\n",
       "        text-align: right;\n",
       "    }\n",
       "</style>\n",
       "<table border=\"1\" class=\"dataframe\">\n",
       "  <thead>\n",
       "    <tr style=\"text-align: right;\">\n",
       "      <th></th>\n",
       "      <th>quote</th>\n",
       "      <th>category</th>\n",
       "    </tr>\n",
       "  </thead>\n",
       "  <tbody>\n",
       "    <tr>\n",
       "      <th>0</th>\n",
       "      <td>你好，請問有問題能在這裡詢問嗎</td>\n",
       "      <td>迎賓|引導</td>\n",
       "    </tr>\n",
       "    <tr>\n",
       "      <th>1</th>\n",
       "      <td>請問我想購買加值方案一直無法付費</td>\n",
       "      <td>企業問題</td>\n",
       "    </tr>\n",
       "    <tr>\n",
       "      <th>2</th>\n",
       "      <td>好像是認證的事情</td>\n",
       "      <td>企業問題</td>\n",
       "    </tr>\n",
       "    <tr>\n",
       "      <th>3</th>\n",
       "      <td>是你們昨天打給我的喔公司統編 85044021</td>\n",
       "      <td>聯繫客服</td>\n",
       "    </tr>\n",
       "    <tr>\n",
       "      <th>4</th>\n",
       "      <td>昨天你們有打給我</td>\n",
       "      <td>聯繫客服</td>\n",
       "    </tr>\n",
       "    <tr>\n",
       "      <th>5</th>\n",
       "      <td>我想在台中市東山路附近找工作</td>\n",
       "      <td>求職問題</td>\n",
       "    </tr>\n",
       "    <tr>\n",
       "      <th>6</th>\n",
       "      <td>你好~</td>\n",
       "      <td>迎賓|引導</td>\n",
       "    </tr>\n",
       "    <tr>\n",
       "      <th>7</th>\n",
       "      <td>可以麻煩客服打給我嗎</td>\n",
       "      <td>聯繫客服</td>\n",
       "    </tr>\n",
       "    <tr>\n",
       "      <th>8</th>\n",
       "      <td>嗨</td>\n",
       "      <td>迎賓|引導</td>\n",
       "    </tr>\n",
       "    <tr>\n",
       "      <th>9</th>\n",
       "      <td>請問刊登職缺是要用電腦才可以嗎</td>\n",
       "      <td>企業問題</td>\n",
       "    </tr>\n",
       "    <tr>\n",
       "      <th>10</th>\n",
       "      <td>您好</td>\n",
       "      <td>迎賓|引導</td>\n",
       "    </tr>\n",
       "    <tr>\n",
       "      <th>11</th>\n",
       "      <td>無法看到求職者的聯絡資訊</td>\n",
       "      <td>企業問題</td>\n",
       "    </tr>\n",
       "    <tr>\n",
       "      <th>12</th>\n",
       "      <td>要求職</td>\n",
       "      <td>求職問題</td>\n",
       "    </tr>\n",
       "    <tr>\n",
       "      <th>13</th>\n",
       "      <td>請暫停徵才刊登.謝謝</td>\n",
       "      <td>企業問題</td>\n",
       "    </tr>\n",
       "    <tr>\n",
       "      <th>14</th>\n",
       "      <td>我要開啟徵才職缺</td>\n",
       "      <td>企業問題</td>\n",
       "    </tr>\n",
       "    <tr>\n",
       "      <th>15</th>\n",
       "      <td>您好 請教一個問題</td>\n",
       "      <td>迎賓|引導</td>\n",
       "    </tr>\n",
       "    <tr>\n",
       "      <th>16</th>\n",
       "      <td>你好想詢問有貨運司機的工作嗎？ 桃園區 無職業駕照</td>\n",
       "      <td>求職問題</td>\n",
       "    </tr>\n",
       "    <tr>\n",
       "      <th>17</th>\n",
       "      <td>你好想詢問有貨運司機的工作嗎？</td>\n",
       "      <td>求職問題</td>\n",
       "    </tr>\n",
       "    <tr>\n",
       "      <th>18</th>\n",
       "      <td>我想找工作</td>\n",
       "      <td>求職問題</td>\n",
       "    </tr>\n",
       "    <tr>\n",
       "      <th>19</th>\n",
       "      <td>您好我要更改公司資料</td>\n",
       "      <td>企業問題</td>\n",
       "    </tr>\n",
       "    <tr>\n",
       "      <th>20</th>\n",
       "      <td>我剛已經電話進去詢問了 感謝 用好了</td>\n",
       "      <td>聯繫客服</td>\n",
       "    </tr>\n",
       "    <tr>\n",
       "      <th>21</th>\n",
       "      <td>您好現在有什麼徵才優惠嗎?</td>\n",
       "      <td>付款費用|活動方案</td>\n",
       "    </tr>\n",
       "    <tr>\n",
       "      <th>22</th>\n",
       "      <td>蘿亞精品有限公司請更改公司地址為新北市汐止區福德一路392巷22弄26號更改電話為（02）26931800</td>\n",
       "      <td>企業問題</td>\n",
       "    </tr>\n",
       "    <tr>\n",
       "      <th>23</th>\n",
       "      <td>你好</td>\n",
       "      <td>迎賓|引導</td>\n",
       "    </tr>\n",
       "    <tr>\n",
       "      <th>24</th>\n",
       "      <td>客服</td>\n",
       "      <td>聯繫客服</td>\n",
       "    </tr>\n",
       "    <tr>\n",
       "      <th>25</th>\n",
       "      <td>您好  我發票要開統編</td>\n",
       "      <td>付款費用|活動方案</td>\n",
       "    </tr>\n",
       "    <tr>\n",
       "      <th>26</th>\n",
       "      <td>我要先關閉暫停徵才職缺</td>\n",
       "      <td>企業問題</td>\n",
       "    </tr>\n",
       "    <tr>\n",
       "      <th>27</th>\n",
       "      <td>你好~我們公司的518合約已到期 不再續約應如何處理</td>\n",
       "      <td>企業問題</td>\n",
       "    </tr>\n",
       "    <tr>\n",
       "      <th>28</th>\n",
       "      <td>已經線上刷卡繳費了 但還不能開通</td>\n",
       "      <td>付款費用|活動方案</td>\n",
       "    </tr>\n",
       "    <tr>\n",
       "      <th>29</th>\n",
       "      <td>公司已搬遷 要如何更改公司資料</td>\n",
       "      <td>企業問題</td>\n",
       "    </tr>\n",
       "    <tr>\n",
       "      <th>30</th>\n",
       "      <td>你好我想要詢問刊登價格</td>\n",
       "      <td>付款費用|活動方案</td>\n",
       "    </tr>\n",
       "    <tr>\n",
       "      <th>31</th>\n",
       "      <td>妳好，我們人找到了，可以暫停徵人嗎？</td>\n",
       "      <td>企業問題</td>\n",
       "    </tr>\n",
       "    <tr>\n",
       "      <th>32</th>\n",
       "      <td>我要使用徵才系統</td>\n",
       "      <td>企業問題</td>\n",
       "    </tr>\n",
       "    <tr>\n",
       "      <th>33</th>\n",
       "      <td>您好，請問企業登入的相關文件是否可以從這邊傳送資料可貴公司，還是必須透過mail呢?</td>\n",
       "      <td>企業問題</td>\n",
       "    </tr>\n",
       "    <tr>\n",
       "      <th>34</th>\n",
       "      <td>儲值後要怎麼開通</td>\n",
       "      <td>付款費用|活動方案</td>\n",
       "    </tr>\n",
       "    <tr>\n",
       "      <th>35</th>\n",
       "      <td>可以透過你們幫我開通嗎</td>\n",
       "      <td>付款費用|活動方案</td>\n",
       "    </tr>\n",
       "    <tr>\n",
       "      <th>36</th>\n",
       "      <td>你好，我剛剛有儲值</td>\n",
       "      <td>付款費用|活動方案</td>\n",
       "    </tr>\n",
       "    <tr>\n",
       "      <th>37</th>\n",
       "      <td>請問如何關閉職缺</td>\n",
       "      <td>企業問題</td>\n",
       "    </tr>\n",
       "  </tbody>\n",
       "</table>\n",
       "</div>"
      ],
      "text/plain": [
       "                                                    quote   category\n",
       "0                                         你好，請問有問題能在這裡詢問嗎      迎賓|引導\n",
       "1                                        請問我想購買加值方案一直無法付費       企業問題\n",
       "2                                                好像是認證的事情       企業問題\n",
       "3                                 是你們昨天打給我的喔公司統編 85044021       聯繫客服\n",
       "4                                                昨天你們有打給我       聯繫客服\n",
       "5                                          我想在台中市東山路附近找工作       求職問題\n",
       "6                                                     你好~      迎賓|引導\n",
       "7                                              可以麻煩客服打給我嗎       聯繫客服\n",
       "8                                                       嗨      迎賓|引導\n",
       "9                                         請問刊登職缺是要用電腦才可以嗎       企業問題\n",
       "10                                                     您好      迎賓|引導\n",
       "11                                           無法看到求職者的聯絡資訊       企業問題\n",
       "12                                                    要求職       求職問題\n",
       "13                                             請暫停徵才刊登.謝謝       企業問題\n",
       "14                                               我要開啟徵才職缺       企業問題\n",
       "15                                              您好 請教一個問題      迎賓|引導\n",
       "16                              你好想詢問有貨運司機的工作嗎？ 桃園區 無職業駕照       求職問題\n",
       "17                                        你好想詢問有貨運司機的工作嗎？       求職問題\n",
       "18                                                  我想找工作       求職問題\n",
       "19                                             您好我要更改公司資料       企業問題\n",
       "20                                     我剛已經電話進去詢問了 感謝 用好了       聯繫客服\n",
       "21                                          您好現在有什麼徵才優惠嗎?  付款費用|活動方案\n",
       "22  蘿亞精品有限公司請更改公司地址為新北市汐止區福德一路392巷22弄26號更改電話為（02）26931800       企業問題\n",
       "23                                                     你好      迎賓|引導\n",
       "24                                                     客服       聯繫客服\n",
       "25                                            您好  我發票要開統編  付款費用|活動方案\n",
       "26                                            我要先關閉暫停徵才職缺       企業問題\n",
       "27                             你好~我們公司的518合約已到期 不再續約應如何處理       企業問題\n",
       "28                                       已經線上刷卡繳費了 但還不能開通  付款費用|活動方案\n",
       "29                                        公司已搬遷 要如何更改公司資料       企業問題\n",
       "30                                            你好我想要詢問刊登價格  付款費用|活動方案\n",
       "31                                     妳好，我們人找到了，可以暫停徵人嗎？       企業問題\n",
       "32                                               我要使用徵才系統       企業問題\n",
       "33             您好，請問企業登入的相關文件是否可以從這邊傳送資料可貴公司，還是必須透過mail呢?       企業問題\n",
       "34                                               儲值後要怎麼開通  付款費用|活動方案\n",
       "35                                            可以透過你們幫我開通嗎  付款費用|活動方案\n",
       "36                                              你好，我剛剛有儲值  付款費用|活動方案\n",
       "37                                               請問如何關閉職缺       企業問題"
      ]
     },
     "execution_count": 24,
     "metadata": {},
     "output_type": "execute_result"
    }
   ],
   "source": [
    "# 檢視資料\n",
    "df"
   ]
  },
  {
   "cell_type": "markdown",
   "metadata": {},
   "source": [
    "## 分詞\n",
    "把句子拆成最小單位\"詞\""
   ]
  },
  {
   "cell_type": "code",
   "execution_count": 25,
   "metadata": {},
   "outputs": [],
   "source": [
    "import jieba\n",
    "\n",
    "def cutProcess(sting):\n",
    "    result = jieba.lcut(sting)\n",
    "    result = \" \".join(result)\n",
    "    \n",
    "    return result\n",
    "\n",
    "df['quote'] = df['quote'].apply(cutProcess)"
   ]
  },
  {
   "cell_type": "code",
   "execution_count": 26,
   "metadata": {
    "scrolled": false
   },
   "outputs": [
    {
     "data": {
      "text/html": [
       "<div>\n",
       "<style scoped>\n",
       "    .dataframe tbody tr th:only-of-type {\n",
       "        vertical-align: middle;\n",
       "    }\n",
       "\n",
       "    .dataframe tbody tr th {\n",
       "        vertical-align: top;\n",
       "    }\n",
       "\n",
       "    .dataframe thead th {\n",
       "        text-align: right;\n",
       "    }\n",
       "</style>\n",
       "<table border=\"1\" class=\"dataframe\">\n",
       "  <thead>\n",
       "    <tr style=\"text-align: right;\">\n",
       "      <th></th>\n",
       "      <th>quote</th>\n",
       "      <th>category</th>\n",
       "    </tr>\n",
       "  </thead>\n",
       "  <tbody>\n",
       "    <tr>\n",
       "      <th>0</th>\n",
       "      <td>你好 ， 請 問有 問題 能 在 這裡 詢問 嗎</td>\n",
       "      <td>迎賓|引導</td>\n",
       "    </tr>\n",
       "    <tr>\n",
       "      <th>1</th>\n",
       "      <td>請問 我 想 購買 加值 方案 一直 無法 付費</td>\n",
       "      <td>企業問題</td>\n",
       "    </tr>\n",
       "    <tr>\n",
       "      <th>2</th>\n",
       "      <td>好像 是 認證 的 事情</td>\n",
       "      <td>企業問題</td>\n",
       "    </tr>\n",
       "    <tr>\n",
       "      <th>3</th>\n",
       "      <td>是 你 們 昨天 打給 我 的 喔 公司 統編   85044021</td>\n",
       "      <td>聯繫客服</td>\n",
       "    </tr>\n",
       "    <tr>\n",
       "      <th>4</th>\n",
       "      <td>昨天 你們 有 打給 我</td>\n",
       "      <td>聯繫客服</td>\n",
       "    </tr>\n",
       "  </tbody>\n",
       "</table>\n",
       "</div>"
      ],
      "text/plain": [
       "                                quote category\n",
       "0            你好 ， 請 問有 問題 能 在 這裡 詢問 嗎    迎賓|引導\n",
       "1            請問 我 想 購買 加值 方案 一直 無法 付費     企業問題\n",
       "2                        好像 是 認證 的 事情     企業問題\n",
       "3  是 你 們 昨天 打給 我 的 喔 公司 統編   85044021     聯繫客服\n",
       "4                        昨天 你們 有 打給 我     聯繫客服"
      ]
     },
     "execution_count": 26,
     "metadata": {},
     "output_type": "execute_result"
    }
   ],
   "source": [
    "df.head(5)"
   ]
  },
  {
   "cell_type": "markdown",
   "metadata": {},
   "source": [
    "# Step3 訓練模型"
   ]
  },
  {
   "cell_type": "code",
   "execution_count": 6,
   "metadata": {},
   "outputs": [
    {
     "data": {
      "text/plain": [
       "MultinomialNB(alpha=0.01, class_prior=None, fit_prior=True)"
      ]
     },
     "execution_count": 6,
     "metadata": {},
     "output_type": "execute_result"
    }
   ],
   "source": [
    "data = df\n",
    "training_documents = data['quote'].values.astype('U')\n",
    "labels = data['category'].values.astype('U')\n",
    "\n",
    "#切分训练集和测试集，分为80%训练集，20%测试集\n",
    "X_train, X_test, y_train, y_test = train_test_split(training_documents, labels, test_size=0.1, random_state=12)\n",
    "\n",
    "\n",
    "vectorizer = CountVectorizer(token_pattern='(?u)\\\\b\\\\w+\\\\b') # token_pattern='(?u)\\\\b\\\\w+\\\\b' 單字也計入\n",
    "x_train = vectorizer.fit_transform(X_train)\n",
    "\n",
    "# train\n",
    "classifier = MultinomialNB (alpha=0.01) # change model type here\n",
    "classifier.fit(x_train, y_train)"
   ]
  },
  {
   "cell_type": "code",
   "execution_count": 7,
   "metadata": {},
   "outputs": [
    {
     "data": {
      "text/plain": [
       "array(['你好 ， 請 問有 問題 能 在 這裡 詢問 嗎', '請問 我 想 購買 加值 方案 一直 無法 付費',\n",
       "       '好像 是 認證 的 事情', '是 你 們 昨天 打給 我 的 喔 公司 統編   85044021',\n",
       "       '昨天 你們 有 打給 我', '我 想 在 台中市 東 山路 附近 找 工作', '你好 ~',\n",
       "       '可以 麻煩 客服 打給 我 嗎', '嗨', '請問 刊登 職缺 是 要 用 電腦 才 可以 嗎', '  您好',\n",
       "       '無法 看到 求 職者 的 聯絡 資訊', '要求 職', '請 暫停 徵才 刊登 . 謝謝', '我要 開啟 徵才 職缺',\n",
       "       '您好   請教 一個 問題', '你好 想詢 問有 貨運司機 的 工作 嗎 ？   桃園區   無 職業 駕照',\n",
       "       '你好 想詢 問有 貨運司機 的 工作 嗎 ？', '我 想 找 工作', '您好 我要 更改 公司 資料',\n",
       "       '我剛 已 經電話 進去 詢問 了   感謝   用 好 了', '您好 現在 有 什麼 徵才 優惠 嗎 ?',\n",
       "       '蘿亞 精品 有限公司 請 更改 公司地址 為 新北市 汐止 區福德 一路 392 巷 22 弄 26 號 更改 電話 為 （ 02 ） 26931800',\n",
       "       '你好', '客服', '您好     我 發票 要 開統編', '我要 先 關閉 暫停 徵才 職缺',\n",
       "       '你好 ~ 我們 公司 的 518 合約 已 到期   不再 續約 應 如何 處理', '您好',\n",
       "       '已經線 上 刷卡 繳費 了   但還 不能 開通', '公司 已 搬 遷   要 如何 更改 公司 資料',\n",
       "       '你好 我 想要 詢問 刊登 價格', '妳 好 ， 我們 人 找到 了 ， 可以 暫停 徵人 嗎 ？', '嗨',\n",
       "       '我要 使用 徵才 系統',\n",
       "       '您好 ， 請問 企業 登入 的 相關 文件 是否 可以 從 這邊 傳送 資料 可貴 公司 ， 還是 必須 透過 mail 呢 ?',\n",
       "       '儲值後要 怎麼 開通', '可以 透過 你 們 幫 我 開通 嗎', '你好 ， 我 剛剛 有 儲值',\n",
       "       '請問 如何 關閉 職缺'], dtype='<U76')"
      ]
     },
     "execution_count": 7,
     "metadata": {},
     "output_type": "execute_result"
    }
   ],
   "source": [
    "training_documents"
   ]
  },
  {
   "cell_type": "code",
   "execution_count": 19,
   "metadata": {},
   "outputs": [],
   "source": [
    "# for i in x_train:\n",
    "#     print(\"#:\"i)"
   ]
  },
  {
   "cell_type": "markdown",
   "metadata": {},
   "source": [
    "# Step4 評估模型"
   ]
  },
  {
   "cell_type": "code",
   "execution_count": 102,
   "metadata": {},
   "outputs": [],
   "source": [
    "x_test = vectorizer.transform(X_test)\n",
    "classifier.score(x_test,y_test)"
   ]
  },
  {
   "cell_type": "code",
   "execution_count": 97,
   "metadata": {},
   "outputs": [],
   "source": [
    "# print(X_test)\n",
    "# predict(X_test)"
   ]
  },
  {
   "cell_type": "markdown",
   "metadata": {},
   "source": [
    "# Step5 模型預測"
   ]
  },
  {
   "cell_type": "code",
   "execution_count": 10,
   "metadata": {},
   "outputs": [],
   "source": [
    "def predict(raw_queries,n_top=1):\n",
    "    raw_queries = [cutProcess(s) for s in raw_queries]\n",
    "#     print(raw_queries)\n",
    "\n",
    "    queries = vectorizer.transform(raw_queries)\n",
    "    predict =  classifier.predict(queries).tolist()\n",
    "    return predict"
   ]
  },
  {
   "cell_type": "code",
   "execution_count": 103,
   "metadata": {
    "scrolled": true
   },
   "outputs": [],
   "source": [
    "example = ['我有問題','修改公司資料','我想在台中市東山路附近找小雞上工上的工作','要怎麼變更公司電話','您好應徵者為何看不到我們需要出差的項目']\n",
    "\n",
    "lists = predict(example)\n",
    "\n",
    "for index,qa in enumerate(lists):\n",
    "    print(\"question:\",example[index])\n",
    "    print(\"anser:\",qa)\n",
    "    print()"
   ]
  },
  {
   "cell_type": "code",
   "execution_count": 21,
   "metadata": {},
   "outputs": [],
   "source": [
    "predict([])"
   ]
  },
  {
   "cell_type": "markdown",
   "metadata": {},
   "source": [
    "# 優化\n",
    "1. 提高資料品質\n",
    "    - 分詞優化 \n",
    "    - 正確標籤\n",
    "\n",
    "\n",
    "2. 蒐集更多資料"
   ]
  },
  {
   "cell_type": "code",
   "execution_count": null,
   "metadata": {},
   "outputs": [],
   "source": [
    "\"\"\" 分詞優化 \"\"\"\n",
    "\n",
    "# 1.加入自定義字典\n",
    "dic  = '../dict.txt'\n",
    "jieba.set_dictionary(dic)\n",
    "\n",
    "# 2.停用詞過濾\n",
    "stop_word = []\n",
    "for word in result:\n",
    "    if word in stop_word:\n",
    "        result.remove(word)"
   ]
  },
  {
   "cell_type": "markdown",
   "metadata": {},
   "source": [
    "# 實作練習\n",
    "\n",
    "-  請讓機器學習正確分類下面問題"
   ]
  },
  {
   "cell_type": "code",
   "execution_count": 25,
   "metadata": {},
   "outputs": [],
   "source": [
    "raw_queries = ['刊登費多少錢',\n",
    "               '應徵職缺後，沒收到回覆',\n",
    "               '想要應徵的公司沒有回覆怎麼辦',\n",
    "               '我剛剛選是那表示目前沒有在徵才然後我需要的時候再開就可以了嗎',\n",
    "               '請問我有點忘了職缺再刊登期間有關閉的次數限制嗎',\n",
    "               '請把我過期的應徵職缺關閉',\n",
    "               '想刊登徵人才，能免費試用看看嗎?',\n",
    "               '請問，我最近在廣告看到的訊息，問他們都說不缺人，是系統自動更新，我不知道要怎麼找',\n",
    "               '我剛剛有繳費，為什麼帳號還沒開通',\n",
    "               '518人力銀行找工作須繳開通費是這意思嗎？']"
   ]
  },
  {
   "cell_type": "markdown",
   "metadata": {},
   "source": [
    "<br> \n",
    "<br>\n",
    "<br>\n",
    "<br>"
   ]
  },
  {
   "cell_type": "markdown",
   "metadata": {},
   "source": [
    "# 儲存模型"
   ]
  },
  {
   "cell_type": "code",
   "execution_count": null,
   "metadata": {},
   "outputs": [],
   "source": [
    "import joblib\n",
    "\n",
    "MNB_FILE = \"MultinomialNB_keyword.pickle\"\n",
    "CV_FILE  = \"CountVectorizer_keyword.pickle\"\n",
    "\n",
    "with open(MNB_FILE, 'wb') as f:\n",
    "    joblib.dump(classifier, f)\n",
    "with open(CV_FILE, 'wb') as f:\n",
    "    joblib.dump(vectorizer, f)"
   ]
  }
 ],
 "metadata": {
  "kernelspec": {
   "display_name": "Python 3",
   "language": "python",
   "name": "python3"
  },
  "language_info": {
   "codemirror_mode": {
    "name": "ipython",
    "version": 3
   },
   "file_extension": ".py",
   "mimetype": "text/x-python",
   "name": "python",
   "nbconvert_exporter": "python",
   "pygments_lexer": "ipython3",
   "version": "3.7.6"
  }
 },
 "nbformat": 4,
 "nbformat_minor": 4
}
